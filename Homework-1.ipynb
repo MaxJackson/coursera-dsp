{
 "metadata": {
  "name": "",
  "signature": "sha256:cb48d9d4745075d09b0f1792027a963ca6b71cbf65f1245ee9593fa20bd5a15d"
 },
 "nbformat": 3,
 "nbformat_minor": 0,
 "worksheets": [
  {
   "cells": [
    {
     "cell_type": "markdown",
     "metadata": {},
     "source": [
      "## Energy\n",
      "\n",
      "$$E_x = \\sum_{n=-\\infty}^{\\infty} |x[n]|^2$$\n",
      "\n",
      "## Power\n",
      "\n",
      "$$P_x = \\lim_{n \\rightarrow \\infty} \\frac{1}{2N + 1} \\sum_{n=-N}^N |x[n]|^2$$"
     ]
    },
    {
     "cell_type": "code",
     "collapsed": false,
     "input": [
      "import numpy as np\n",
      "\n",
      "N = 40\n",
      "n = np.arange(-N*200, N*200)\n",
      "mid = n.size / 2\n",
      "x = np.zeros(n.size)\n",
      "x[mid+1:mid+4] = [np.power(-1, nn) * nn for nn in [1, 2, 3]]\n",
      "k = np.arange(-N, N)\n",
      "y = x[n[mid-N: mid+N] + 7 * k]"
     ],
     "language": "python",
     "metadata": {},
     "outputs": []
    },
    {
     "cell_type": "code",
     "collapsed": false,
     "input": [
      "%matplotlib inline\n",
      "import matplotlib.pyplot as plt\n",
      "\n",
      "plt.stem(x[mid-N:mid+N], c='b')\n",
      "plt.stem(y, c='r');"
     ],
     "language": "python",
     "metadata": {},
     "outputs": []
    },
    {
     "cell_type": "code",
     "collapsed": false,
     "input": [
      "print(np.sum(np.power(x, 2)))\n",
      "print(np.sum(np.power(x, 2)) / x.size)"
     ],
     "language": "python",
     "metadata": {},
     "outputs": []
    },
    {
     "cell_type": "code",
     "collapsed": false,
     "input": [
      "print(np.sum(np.power(y, 2)))\n",
      "print(np.sum(np.power(y, 2)) / y.size)"
     ],
     "language": "python",
     "metadata": {},
     "outputs": []
    },
    {
     "cell_type": "code",
     "collapsed": false,
     "input": [
      "# 2 minutes, fs = 44100 samples per second\n",
      "print(2 * 60 * 44100)"
     ],
     "language": "python",
     "metadata": {},
     "outputs": []
    }
   ],
   "metadata": {}
  }
 ]
}
