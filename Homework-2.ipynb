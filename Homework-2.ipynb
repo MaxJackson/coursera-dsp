{
 "metadata": {
  "name": "",
  "signature": "sha256:ca2b2699b0a73a7e7d4f74d4d58e0baff31ef7e96c33548a94aebfcc377a6fe8"
 },
 "nbformat": 3,
 "nbformat_minor": 0,
 "worksheets": [
  {
   "cells": [
    {
     "cell_type": "code",
     "collapsed": false,
     "input": [
      "import numpy as np"
     ],
     "language": "python",
     "metadata": {},
     "outputs": []
    },
    {
     "cell_type": "code",
     "collapsed": false,
     "input": [
      "v0 = np.array([.5, .5, .5, .5])\n",
      "v1 = np.array([.5, .5, -.5, -.5])\n",
      "print(np.dot(v0, v1))"
     ],
     "language": "python",
     "metadata": {},
     "outputs": []
    },
    {
     "cell_type": "code",
     "collapsed": false,
     "input": [
      "v0 = np.array([.5, .5, .5, .5])\n",
      "v1 = np.array([.5, .5, -.5, -.5])\n",
      "v2 = np.array([.5, -.5, .5, -.5])\n",
      "v3 = np.array([-.5, .5, .5, -.5])\n",
      "print(np.dot(v0, v1))\n",
      "print(np.dot(v0, v2))\n",
      "print(np.dot(v0, v3))\n",
      "print(np.dot(v1, v2))\n",
      "print(np.dot(v1, v3))\n",
      "print(np.dot(v2, v3))"
     ],
     "language": "python",
     "metadata": {},
     "outputs": []
    },
    {
     "cell_type": "code",
     "collapsed": false,
     "input": [
      "y = np.array([-1.5, -.5, -.5, .5])\n",
      "print(np.dot(v0, y))\n",
      "print(np.dot(v1, y))\n",
      "print(np.dot(v2, y))\n",
      "print(np.dot(v3, y))"
     ],
     "language": "python",
     "metadata": {},
     "outputs": []
    },
    {
     "cell_type": "code",
     "collapsed": false,
     "input": [
      "v = np.vstack((v0, v1, v2, v3)).T\n",
      "print v\n",
      "print np.dot(v, v.T)"
     ],
     "language": "python",
     "metadata": {},
     "outputs": []
    },
    {
     "cell_type": "code",
     "collapsed": false,
     "input": [
      "def newdot(x, y):\n",
      "    return np.dot(np.dot(x, np.array([[4, 4, 2], [4, 2, -4], [2, -4, 10]])),  y)\n",
      "\n",
      "alpha = 3\n",
      "x = np.array([1, 1, 1])\n",
      "y = np.array([.5, .5, .5])\n",
      "z = np.array([-.5, -1, .5])\n",
      "zero = np.array([0, 0, 0])\n",
      "o1 = np.array([2, 0, 0])\n",
      "o2 = np.array([0, 0, 2])\n",
      "print(newdot(x + y, z), newdot(x, z) + newdot(y, z))\n",
      "print(newdot(x, y), newdot(y, x))\n",
      "print(newdot(alpha * x, y), alpha * newdot(x, y))\n",
      "print(newdot(x, x))\n",
      "print(newdot(zero, zero))\n",
      "print(newdot(o1, o2))"
     ],
     "language": "python",
     "metadata": {},
     "outputs": []
    },
    {
     "cell_type": "code",
     "collapsed": false,
     "input": [
      "%matplotlib inline\n",
      "import matplotlib.pyplot as plt"
     ],
     "language": "python",
     "metadata": {},
     "outputs": []
    },
    {
     "cell_type": "code",
     "collapsed": false,
     "input": [
      "x = np.array([np.linspace(-1, 2, 10), np.ones(10)])\n",
      "# translate [[1] [-1]], scale sqrt(2), rotate pi/4\n",
      "theta = -np.pi / 4.\n",
      "a, b, c, d, f, g = np.sqrt(2) * np.cos(theta), np.sin(theta), -np.sin(theta), np.sqrt(2) * np.cos(theta), 1, -1\n",
      "y = np.dot(np.array([[a, b], [c, d]]), x) + np.array([[f], [g]])\n",
      "plt.plot(x[0], x[1], lw=2)\n",
      "plt.plot(y[0], y[1], lw=2)\n",
      "plt.grid()\n",
      "plt.axhline(0, c='k')\n",
      "plt.axvline(0, c='k')\n",
      "#plt.ylim(bottom=-0.5)\n",
      "#plt.xlim(left=-0.5)\n",
      "print(a, b, c, d, f, g)"
     ],
     "language": "python",
     "metadata": {},
     "outputs": []
    },
    {
     "cell_type": "code",
     "collapsed": false,
     "input": [
      "from numpy.linalg import norm\n",
      "\n",
      "def gs_orthonormalization(V):\n",
      "    \n",
      "    # V is a matrix where each column contains \n",
      "    # the vectors spanning the space of which we want to compute the orthonormal base\n",
      "    # Will return a matrix where each column contains an ortho-normal vector of the base of the space\n",
      "    \n",
      "    numberLines = V.shape[0]\n",
      "    numberColumns = V.shape[1]\n",
      "    \n",
      "    # U is a matrix containing the orthogonal vectors (non normalized)\n",
      "    U = np.zeros((numberLines,numberColumns))\n",
      "    R = np.zeros((numberLines,numberColumns))\n",
      "    \n",
      "    for indexColumn in range(0,numberColumns):\n",
      "        U[:,indexColumn] = V[:,indexColumn]\n",
      "        \n",
      "        for index in range(0,indexColumn):\n",
      "            R[index,indexColumn] = np.dot(U[:,index],V[:,indexColumn])\n",
      "            U[:,indexColumn] = U[:,indexColumn] - R[index,indexColumn]*U[:,index]\n",
      "            \n",
      "        R[indexColumn,indexColumn] = norm(U[:,indexColumn])\n",
      "        U[:,indexColumn] = U[:,indexColumn] / float(R[indexColumn, indexColumn])\n",
      "    \n",
      "    return U"
     ],
     "language": "python",
     "metadata": {},
     "outputs": []
    },
    {
     "cell_type": "code",
     "collapsed": false,
     "input": [
      "v1 = np.array([[.866],[.5],[0]])\n",
      "v2 = np.array([[0],[.5],[.866]])\n",
      "v3 = np.array([[1.732],[3],[3.464]])\n",
      "v = np.hstack((v1, v2, v3))\n",
      "print v\n",
      "e = gs_orthonormalization(v)\n",
      "print e\n",
      "for i in range(e.shape[0]):\n",
      "    for j in range(e.shape[1]):\n",
      "        if i != j:\n",
      "            print(i, j)\n",
      "            print(np.dot(e.T[i], e.T[j]))\n",
      "print(np.dot(e, e.T))\n",
      "print(np.linalg.matrix_rank(e))"
     ],
     "language": "python",
     "metadata": {},
     "outputs": []
    }
   ],
   "metadata": {}
  }
 ]
}
