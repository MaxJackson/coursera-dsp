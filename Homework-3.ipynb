{
 "metadata": {
  "name": "",
  "signature": "sha256:68ec2f607c048e51ee5e42c5c31a3776c0e8e7f0aad2be280059846f8b42e443"
 },
 "nbformat": 3,
 "nbformat_minor": 0,
 "worksheets": [
  {
   "cells": [
    {
     "cell_type": "code",
     "collapsed": false,
     "input": [
      "from __future__ import division\n",
      "import numpy as np\n",
      "%matplotlib inline\n",
      "import matplotlib.pyplot as plt"
     ],
     "language": "python",
     "metadata": {},
     "outputs": [],
     "prompt_number": 10
    },
    {
     "cell_type": "code",
     "collapsed": false,
     "input": [
      "a1 = 1 - 1j\n",
      "a2 = -1 - 1j\n",
      "\n",
      "def phase(n):\n",
      "    if n.real > 0:\n",
      "        return np.arctan(n.imag/n.real)\n",
      "    if n.real < 0 and n.imag >= 0:\n",
      "        return np.arctan(n.imag/n.real) + np.pi\n",
      "    if n.real < 0 and n.imag < 0:\n",
      "        return np.arctan(n.imag/n.real) - np.pi\n",
      "    if n.real == 0 and n.imag > 0:\n",
      "        return np.pi / 2\n",
      "    if n.real == 0 and n.imag < 0:\n",
      "        return -np.pi / 2\n",
      "    raise ValueError(\"indeterminate\")\n",
      "\n",
      "print np.rad2deg(phase(a1))\n",
      "print np.rad2deg(phase(a2))"
     ],
     "language": "python",
     "metadata": {},
     "outputs": [
      {
       "output_type": "stream",
       "stream": "stdout",
       "text": [
        "-45.0\n",
        "-135.0\n"
       ]
      }
     ],
     "prompt_number": 7
    },
    {
     "cell_type": "code",
     "collapsed": false,
     "input": [
      "print(np.power(-1, np.arange(-10, 2)))"
     ],
     "language": "python",
     "metadata": {},
     "outputs": [
      {
       "output_type": "stream",
       "stream": "stdout",
       "text": [
        "[ 1 -1  1 -1  1 -1  1 -1  1 -1  1 -1]\n"
       ]
      }
     ],
     "prompt_number": 9
    },
    {
     "cell_type": "code",
     "collapsed": false,
     "input": [
      "t = np.linspace(-5, 5, 2000)\n",
      "plt.plot(t - np.floor(t))"
     ],
     "language": "python",
     "metadata": {},
     "outputs": [
      {
       "metadata": {},
       "output_type": "pyout",
       "prompt_number": 14,
       "text": [
        "[<matplotlib.lines.Line2D at 0x103dbae90>]"
       ]
      },
      {
       "metadata": {},
       "output_type": "display_data",
       "png": "[encoded data removed]",
       "text": [
        "<matplotlib.figure.Figure at 0x103cdd3d0>"
       ]
      }
     ],
     "prompt_number": 14
    }
   ],
   "metadata": {}
  }
 ]
}