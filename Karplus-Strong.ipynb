{
 "metadata": {
  "name": "",
  "signature": "sha256:46294a8c7685c65329689c77fe7c584ab40fc0f55b690e444a632039a97364e4"
 },
 "nbformat": 3,
 "nbformat_minor": 0,
 "worksheets": [
  {
   "cells": [
    {
     "cell_type": "markdown",
     "metadata": {},
     "source": [
      "# Karplus-Strong algorithm\n",
      "\n",
      "$$y[n] = \\alpha y[n - M] + x[n]$$\n",
      "\n",
      "* $x[n]$: input signal\n",
      "* $M$: delay\n",
      "* $\\alpha$: decay\n",
      "* $D$: length parameter\n",
      "\n",
      "Note that $M = \\text{length}(x)$, and $\\text{length}(y) = D \\times M$.\n",
      "\n",
      "## Vectorizing\n",
      "\n",
      "We'll vectorize this by computing all $D$ powers of alpha ahead of time,\n",
      "then do the outer product with $x[n]$ to get all of the scaled values.\n",
      "Then, reading it out column-by-column gives us $y[n]$."
     ]
    },
    {
     "cell_type": "code",
     "collapsed": false,
     "input": [
      "from __future__ import division\n",
      "import numpy as np\n",
      "%matplotlib inline\n",
      "import matplotlib.pyplot as plt\n",
      "from IPython.display import Audio\n",
      "from scipy.io.wavfile import write as write_wav"
     ],
     "language": "python",
     "metadata": {},
     "outputs": []
    },
    {
     "cell_type": "code",
     "collapsed": false,
     "input": [
      "def ks(x, alpha, D):\n",
      "    if D < 1:\n",
      "        raise ValueError('Duration D must be greater than 1')\n",
      "    if x.ndim != 1:\n",
      "        raise ValueError('\"x\" should be a vector (ndim == 1)')\n",
      "\n",
      "    a = np.ones((1, D)) * alpha\n",
      "    alpha_v = np.power(a, np.arange(D))\n",
      "    y_m = np.outer(alpha_v, x)\n",
      "    \n",
      "    # Read out the output column by columnn\n",
      "    return y_m.flatten()"
     ],
     "language": "python",
     "metadata": {},
     "outputs": []
    },
    {
     "cell_type": "markdown",
     "metadata": {},
     "source": [
      "## Test with random data"
     ]
    },
    {
     "cell_type": "code",
     "collapsed": false,
     "input": [
      "x = np.random.randn(100)"
     ],
     "language": "python",
     "metadata": {},
     "outputs": []
    },
    {
     "cell_type": "code",
     "collapsed": false,
     "input": [
      "y = ks(x, 0.9, 10)\n",
      "plt.stem(np.arange(x.size), x)\n",
      "plt.xlabel('Samples')\n",
      "plt.ylabel('x');"
     ],
     "language": "python",
     "metadata": {},
     "outputs": []
    },
    {
     "cell_type": "code",
     "collapsed": false,
     "input": [
      "plt.stem(np.arange(y.size), y)\n",
      "plt.xlabel('Samples')\n",
      "plt.ylabel('y');"
     ],
     "language": "python",
     "metadata": {},
     "outputs": []
    },
    {
     "cell_type": "code",
     "collapsed": false,
     "input": [
      "data = ks(x, 0.9, 100)\n",
      "scaled = np.int16(data / np.max(np.abs(data)) * 32767)\n",
      "write_wav('test.wav', 18000, scaled)\n",
      "Audio(data=data, rate=18000, embed=True)"
     ],
     "language": "python",
     "metadata": {},
     "outputs": []
    },
    {
     "cell_type": "markdown",
     "metadata": {},
     "source": [
      "## Make the first chord in A Hard Day's Night\n",
      "\n",
      "* A4 (middle A) is the reference; frequency = 440 Hz\n",
      "* All other notes are $F_0 = 440 \\times 2^{n / 12}$\n",
      "  * $n$ is the number of half-tones between A4 and the desired note\n",
      "* The chord is composed of D2, D3, F3, G3, F4, A4, C5, G5\n",
      "* Each note is generated using a separate Karplus-Strong algorithm, then added together\n",
      "* Differences in levels from multiple noise sources (3 guitars) imitated with different gains"
     ]
    },
    {
     "cell_type": "code",
     "collapsed": false,
     "input": [
      "# Parameters:\n",
      "#\n",
      "# - Fs       : sampling frequency\n",
      "# - F0       : frequency of the notes forming chord\n",
      "# - gain     : gains of individual notes in the chord\n",
      "# - duration : duration of the chord in seconds\n",
      "# - alpha    : attenuation in KS algorithm\n",
      "\n",
      "Fs = 48000\n",
      "F0 = 440 * np.array([2 ** (-31./12.),  # D2\n",
      "                     2 ** (-19./12.),  # D3\n",
      "                     2 ** (-16./12.),  # F3\n",
      "                     2 ** (-14./12.),  # G3\n",
      "                     2 ** (-4./12.),   # F4\n",
      "                     1,                # A4\n",
      "                     2 ** (3./12.),    # C5\n",
      "                     2 ** (10./12.)])  # G5\n",
      "gain = np.array([1.2, 3.0, 1.0, 2.2, 1.0, 1.0, 1.0, 3.5])\n",
      "duration = 4\n",
      "alpha = 0.9785\n",
      "\n",
      "# Number of samples in the chord\n",
      "n_samples = Fs * duration\n",
      "\n",
      "# This is used to correct alpha later, so that all the notes decay together\n",
      "# (with the same decay rate)\n",
      "first_duration = np.ceil(n_samples / round(Fs / F0[0]))\n",
      "\n",
      "chord = np.zeros(n_samples)\n",
      "\n",
      "for i in range(F0.size):\n",
      "    # Get M and duration parameter\n",
      "    current_M = round(Fs / F0[i])\n",
      "    current_duration = np.ceil(n_samples / float(current_M))\n",
      "    \n",
      "    # Correct current alpha so that all the notes decay together (with the\n",
      "    # same decay rate)\n",
      "    current_alpha = alpha ** (first_duration / current_duration)\n",
      "    \n",
      "    # Let Paul's high D on the bass ring a bit longer\n",
      "    if i == 1:\n",
      "        current_alpha = current_alpha ** 8\n",
      "\n",
      "    # Generate input and output of KS algorithm\n",
      "    x = np.random.rand(current_M)\n",
      "    y = ks(x, current_alpha, current_duration)\n",
      "    y = y[:n_samples]\n",
      "\n",
      "    # Construct the chord by adding the generated note (with the\n",
      "    # appropriate gain)\n",
      "    chord += gain[i] * y"
     ],
     "language": "python",
     "metadata": {},
     "outputs": []
    },
    {
     "cell_type": "code",
     "collapsed": false,
     "input": [
      "data = chord\n",
      "scaled = np.int16(data / np.max(np.abs(data)) * 32767)\n",
      "write_wav('hard_days.wav', 44100, scaled)\n",
      "Audio(data=data, rate=48000, embed=True)"
     ],
     "language": "python",
     "metadata": {},
     "outputs": []
    }
   ],
   "metadata": {}
  }
 ]
}